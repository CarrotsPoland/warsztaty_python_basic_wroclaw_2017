{
 "cells": [
  {
   "cell_type": "code",
   "execution_count": 1,
   "metadata": {
    "collapsed": true
   },
   "outputs": [],
   "source": [
    "# Krok pierwszy: Napisz funkcję pobierz_aktualne_dane() do pobierania aktualnych danych o kursach walut. \n",
    "# Przydatne będzie ci kilka rzeczy:\n",
    "# 1. Zapoznaj się z opisem pobierania danych na stronie NBP: http://api.nbp.pl/\n",
    "# 2. Zapoznaj się z funkcją get() z pakietu requests\n",
    "# 3. Przypomnij sobie obsługę pakietu json i słowników z wczoraj\n",
    "# 4. Przypomnij sobie, jak napisać funkcję"
   ]
  },
  {
   "cell_type": "code",
   "execution_count": 2,
   "metadata": {
    "collapsed": false
   },
   "outputs": [
    {
     "name": "stdout",
     "output_type": "stream",
     "text": [
      "{'table': 'C', 'effectiveDate': '2017-07-06', 'rates': [{'currency': 'dolar amerykański', 'ask': 3.786, 'code': 'USD', 'bid': 3.711}, {'currency': 'dolar australijski', 'ask': 2.8691, 'code': 'AUD', 'bid': 2.8123}, {'currency': 'dolar kanadyjski', 'ask': 2.9174, 'code': 'CAD', 'bid': 2.8596}, {'currency': 'euro', 'ask': 4.291, 'code': 'EUR', 'bid': 4.206}, {'currency': 'forint (Węgry)', 'ask': 0.013901, 'code': 'HUF', 'bid': 0.013625}, {'currency': 'frank szwajcarski', 'ask': 3.9146, 'code': 'CHF', 'bid': 3.837}, {'currency': 'funt szterling', 'ask': 4.8911, 'code': 'GBP', 'bid': 4.7943}, {'currency': 'jen (Japonia)', 'ask': 0.033382, 'code': 'JPY', 'bid': 0.03272}, {'currency': 'korona czeska', 'ask': 0.1642, 'code': 'CZK', 'bid': 0.161}, {'currency': 'korona duńska', 'ask': 0.577, 'code': 'DKK', 'bid': 0.5656}, {'currency': 'korona norweska', 'ask': 0.4514, 'code': 'NOK', 'bid': 0.4424}, {'currency': 'korona szwedzka', 'ask': 0.4449, 'code': 'SEK', 'bid': 0.4361}, {'currency': 'SDR (MFW)', 'ask': 5.2416, 'code': 'XDR', 'bid': 5.1378}], 'no': '129/C/NBP/2017', 'tradingDate': '2017-07-05'}\n"
     ]
    }
   ],
   "source": [
    "import requests\n",
    "import json\n",
    "def pobierz_aktualne_dane():\n",
    "    NBP=\"http://api.nbp.pl/api/exchangerates/tables/c/\"\n",
    "    dane = requests.get(url=NBP)\n",
    "    dane_json = json.loads(dane.text)[0]\n",
    "    return dane_json\n",
    "test = pobierz_aktualne_dane()\n",
    "print(test)"
   ]
  },
  {
   "cell_type": "code",
   "execution_count": 3,
   "metadata": {
    "collapsed": true
   },
   "outputs": [],
   "source": [
    "# Krok drugi: Napisz kilka potrzebnych funkcji z wykorzstaniem informacji zdobytych w kroku pierwszym:\n",
    "# 1. funkcja wylistuj_dostspne_waluty()\n",
    "# 2. funkcja kup_walute(waluta, kwota)\n",
    "# 3. funkcja sprzedaj_walute(waluta, kwota)"
   ]
  },
  {
   "cell_type": "code",
   "execution_count": 4,
   "metadata": {
    "collapsed": false
   },
   "outputs": [
    {
     "name": "stdout",
     "output_type": "stream",
     "text": [
      "['dolar amerykański <USD>', 'dolar australijski <AUD>', 'dolar kanadyjski <CAD>', 'euro <EUR>', 'forint (Węgry) <HUF>', 'frank szwajcarski <CHF>', 'funt szterling <GBP>', 'jen (Japonia) <JPY>', 'korona czeska <CZK>', 'korona duńska <DKK>', 'korona norweska <NOK>', 'korona szwedzka <SEK>', 'SDR (MFW) <XDR>']\n"
     ]
    }
   ],
   "source": [
    "def wylistuj_dostepne_waluty():\n",
    "    lista_walut = []\n",
    "    dane = pobierz_aktualne_dane()\n",
    "    for waluta in dane[\"rates\"]:\n",
    "        waluta_tekst = \"{} <{}>\".format(waluta['currency'], waluta[\"code\"])\n",
    "        lista_walut.append(waluta_tekst)\n",
    "    return lista_walut\n",
    "test = wylistuj_dostepne_waluty()\n",
    "print(test)"
   ]
  },
  {
   "cell_type": "code",
   "execution_count": 21,
   "metadata": {
    "collapsed": false
   },
   "outputs": [
    {
     "name": "stdout",
     "output_type": "stream",
     "text": [
      "37.86\n"
     ]
    }
   ],
   "source": [
    "def kup_walute(waluta, kwota):\n",
    "    dane = pobierz_aktualne_dane()\n",
    "    for waluta_dane in dane[\"rates\"]:\n",
    "        if waluta_dane[\"code\"] in waluta:\n",
    "            cena_kupna = waluta_dane[\"ask\"]\n",
    "            break\n",
    "    cena_koncowa = cena_kupna * kwota\n",
    "    ### *2.\n",
    "    cena_koncowa = round(cena_koncowa, 2)\n",
    "    ###\n",
    "    return cena_koncowa\n",
    "test = kup_walute(\"USD\", 10)\n",
    "print(test)"
   ]
  },
  {
   "cell_type": "code",
   "execution_count": 22,
   "metadata": {
    "collapsed": false
   },
   "outputs": [
    {
     "name": "stdout",
     "output_type": "stream",
     "text": [
      "2.69\n"
     ]
    }
   ],
   "source": [
    "def sprzedaj_walute(waluta, kwota):\n",
    "    dane = pobierz_aktualne_dane()\n",
    "    for waluta_dane in dane[\"rates\"]:\n",
    "        if waluta_dane[\"code\"] in waluta:\n",
    "            cena_sprzedazy = waluta_dane[\"bid\"]\n",
    "            break\n",
    "    kwota_koncowa = kwota / cena_sprzedazy\n",
    "    ### *2.\n",
    "    kwota_koncowa = round(kwota_koncowa, 2)\n",
    "    ###\n",
    "    return kwota_koncowa\n",
    "test = sprzedaj_walute(\"USD\", 10)\n",
    "print(test)"
   ]
  },
  {
   "cell_type": "code",
   "execution_count": 7,
   "metadata": {
    "collapsed": true
   },
   "outputs": [],
   "source": [
    "# Krok trzeci: Zapoznaj się z podstawową obsługą tworzenia interfejsu w notebooku ze strony: \n",
    "# http://ipywidgets.readthedocs.io/en/latest/examples/Widget%20List.html, a następnie stwórz:\n",
    "# 1. Selektor tego, czy chcesz kupić czy sprzedać walutę\n",
    "# 2. Selektor do wybrania waluty\n",
    "# 3. Pole tekstowe, gdzie należy wpisać kwotę\n",
    "# 4. Przycisk \"oblicz\"\n",
    "# Potem za pomocą funkcji display() zobacz, jak prezentują się powyższe elementy"
   ]
  },
  {
   "cell_type": "code",
   "execution_count": 8,
   "metadata": {
    "collapsed": true
   },
   "outputs": [],
   "source": [
    "from ipywidgets import widgets"
   ]
  },
  {
   "cell_type": "code",
   "execution_count": 9,
   "metadata": {
    "collapsed": true
   },
   "outputs": [],
   "source": [
    "typ_transakcji_selektor = widgets.Dropdown(\n",
    "    options=['Kupno', 'Sprzedaż'],\n",
    "    value='Kupno',\n",
    "    description='Typ transakcji:'\n",
    ")"
   ]
  },
  {
   "cell_type": "code",
   "execution_count": 10,
   "metadata": {
    "collapsed": false
   },
   "outputs": [],
   "source": [
    "waluta_selektor = widgets.Dropdown(\n",
    "    options=wylistuj_dostepne_waluty(),\n",
    "    description='Waluta:'\n",
    ")"
   ]
  },
  {
   "cell_type": "code",
   "execution_count": 11,
   "metadata": {
    "collapsed": true
   },
   "outputs": [],
   "source": [
    "kwota_selektor = widgets.Text(\n",
    "    value='0.0',\n",
    "    placeholder='Type something',\n",
    "    description='Kwota:'\n",
    ")"
   ]
  },
  {
   "cell_type": "code",
   "execution_count": 12,
   "metadata": {
    "collapsed": true
   },
   "outputs": [],
   "source": [
    "wykonaj = widgets.Button(\n",
    "    description=\"Wykonaj\"\n",
    ")"
   ]
  },
  {
   "cell_type": "code",
   "execution_count": 13,
   "metadata": {
    "collapsed": true
   },
   "outputs": [],
   "source": [
    "from IPython.display import display"
   ]
  },
  {
   "cell_type": "code",
   "execution_count": 14,
   "metadata": {
    "collapsed": false
   },
   "outputs": [
    {
     "name": "stdout",
     "output_type": "stream",
     "text": [
      "Podaj poprawną kwotę w polu 'kwota'\n"
     ]
    }
   ],
   "source": [
    "display(typ_transakcji_selektor, waluta_selektor, kwota_selektor, wykonaj)"
   ]
  },
  {
   "cell_type": "code",
   "execution_count": 15,
   "metadata": {
    "collapsed": true
   },
   "outputs": [],
   "source": [
    "# Krok czwarty: Pora połączyć backend (czyli napisane funkcje) z fronendem (czyli interfejsem)\n",
    "# 1. Zapoznaj się z funkcją on_click(), którą możesz zastosować na Przycisku (4.)\n",
    "# 2. Napisz funkcję wykonaj_na_klik(), która pobiera wartości z elemntów interfejsu i w zależności od tego, \n",
    "#    czy zostało wybrane kupno czy sprzedać printuje ile należy zapłacić lub ile zostanie zapłacone klientowi.\n",
    "# 3. Zapoznaj się z funkcją clear_output() z pakietu IPython.display i wykorzystaj ją"
   ]
  },
  {
   "cell_type": "code",
   "execution_count": 20,
   "metadata": {
    "collapsed": false
   },
   "outputs": [],
   "source": [
    "from IPython.display import clear_output\n",
    "def wykonaj_na_klik(b):\n",
    "    clear_output()\n",
    "    typ_transakcji = typ_transakcji_selektor.value\n",
    "    waluta = waluta_selektor.value\n",
    "    kwota = kwota_selektor.value\n",
    "    #### *1.\n",
    "    if not kwota.isdigit():\n",
    "        print(\"Podaj poprawną kwotę w polu 'kwota'\")\n",
    "        return\n",
    "    ####\n",
    "    kwota = float(kwota_selektor.value)\n",
    "    if typ_transakcji.lower() == \"kupno\":\n",
    "        do_zaplaty = kup_walute(waluta, kwota)\n",
    "        print(\"Należy zapłacić {} zł.\".format(do_zaplaty))\n",
    "    else:\n",
    "        otrzymana_kwota = sprzedaj_walute(waluta, kwota)\n",
    "        print(\"Otrzymujesz {} zł\".format(otrzymana_kwota))\n",
    "wykonaj.on_click(wykonaj_na_klik)"
   ]
  },
  {
   "cell_type": "code",
   "execution_count": 17,
   "metadata": {
    "collapsed": true
   },
   "outputs": [],
   "source": [
    "# Krok piąty (dodatkowy): A teraz pora na \"bonusy\"\n",
    "# 1. Spróbuj upewnić się, że w polu kwota wpisana jest liczba, a jeśli nie, to wyprintuj \"Podaj poprawną kwotę w polu \"kwota\"\"\n",
    "# 2. Zaokrąglij podaną kwotę i rezultat, który program zwraca do dwóch miejsc po przecinku (funkca round())\n",
    "# 3. Stwórz dodatkową funkcjonalość, która pozwala zobaczyć historię kursów z ostatnich 10 dni (spójrz raz jeszcze na stronę\n",
    "#    NBP) - wyprintuj 10 linijek, gdzie w każdej mamy datę i kurs kupna oraz sprzedaży.\n",
    "# 4. Do powyższej funkcjonalności dodaj wizualizację za pomocą pakietu matplotlib\n",
    "# 5.*** Dodaj powyższe dodatki do interfejsu"
   ]
  },
  {
   "cell_type": "code",
   "execution_count": 36,
   "metadata": {
    "collapsed": false
   },
   "outputs": [
    {
     "name": "stdout",
     "output_type": "stream",
     "text": [
      "Waluta: USD\n",
      "Dzień: 2017-06-23, cena kupna: 3.8411, cena sprzedaży: 3.7651\n",
      "Dzień: 2017-06-26, cena kupna: 3.8148, cena sprzedaży: 3.7392\n",
      "Dzień: 2017-06-27, cena kupna: 3.7918, cena sprzedaży: 3.7168\n",
      "Dzień: 2017-06-28, cena kupna: 3.7761, cena sprzedaży: 3.7013\n",
      "Dzień: 2017-06-29, cena kupna: 3.7658, cena sprzedaży: 3.6912\n",
      "Dzień: 2017-06-30, cena kupna: 3.7574, cena sprzedaży: 3.683\n",
      "Dzień: 2017-07-03, cena kupna: 3.7367, cena sprzedaży: 3.6627\n",
      "Dzień: 2017-07-04, cena kupna: 3.7642, cena sprzedaży: 3.6896\n",
      "Dzień: 2017-07-05, cena kupna: 3.7794, cena sprzedaży: 3.7046\n",
      "Dzień: 2017-07-06, cena kupna: 3.786, cena sprzedaży: 3.711\n"
     ]
    }
   ],
   "source": [
    "### *3.\n",
    "def pokaz_10_ostatnich_dni(waluta):\n",
    "    NBP = \"http://api.nbp.pl/api/exchangerates/tables/c/last/10/\"\n",
    "    dane = requests.get(url=NBP)\n",
    "    dane_json = json.loads(dane.text)\n",
    "    print(\"Waluta: {}\".format(waluta))\n",
    "    for wiersz in dane_json:\n",
    "        data = wiersz['effectiveDate']\n",
    "        for waluta_dane in wiersz['rates']:\n",
    "            if waluta_dane['code'] in waluta:\n",
    "                print(\"Dzień: {}, cena kupna: {}, cena sprzedaży: {}\".format(data, waluta_dane['ask'], waluta_dane['bid']))\n",
    "pokaz_10_ostatnich_dni(\"USD\")\n",
    "###"
   ]
  },
  {
   "cell_type": "code",
   "execution_count": 49,
   "metadata": {
    "collapsed": true
   },
   "outputs": [],
   "source": [
    "### *4.\n",
    "import datetime\n",
    "def rysuj_10_ostatnich_dni(waluta):\n",
    "    x = []\n",
    "    kupno = []\n",
    "    sprzedaz = []\n",
    "    NBP = \"http://api.nbp.pl/api/exchangerates/tables/c/last/10/\"\n",
    "    dane = requests.get(url=NBP)\n",
    "    dane_json = json.loads(dane.text)\n",
    "    for wiersz in dane_json:\n",
    "        data = wiersz['effectiveDate']\n",
    "        for waluta_dane in wiersz['rates']:\n",
    "            if waluta_dane['code'] in waluta:\n",
    "                x.append(datetime.datetime.strptime(data, '%Y-%m-%d'))\n",
    "                kupno.append(waluta_dane['ask'])\n",
    "                sprzedaz.append(waluta_dane['bid'])\n",
    "    return x, kupno, sprzedaz\n",
    "###"
   ]
  },
  {
   "cell_type": "code",
   "execution_count": 50,
   "metadata": {
    "collapsed": false
   },
   "outputs": [
    {
     "data": {
      "text/plain": [
       "[datetime.datetime(2017, 6, 23, 0, 0),\n",
       " datetime.datetime(2017, 6, 26, 0, 0),\n",
       " datetime.datetime(2017, 6, 27, 0, 0),\n",
       " datetime.datetime(2017, 6, 28, 0, 0),\n",
       " datetime.datetime(2017, 6, 29, 0, 0),\n",
       " datetime.datetime(2017, 6, 30, 0, 0),\n",
       " datetime.datetime(2017, 7, 3, 0, 0),\n",
       " datetime.datetime(2017, 7, 4, 0, 0),\n",
       " datetime.datetime(2017, 7, 5, 0, 0),\n",
       " datetime.datetime(2017, 7, 6, 0, 0)]"
      ]
     },
     "execution_count": 50,
     "metadata": {},
     "output_type": "execute_result"
    }
   ],
   "source": [
    "x, kupno, sprzedaz = rysuj_10_ostatnich_dni(\"USD\")\n",
    "x"
   ]
  },
  {
   "cell_type": "code",
   "execution_count": 59,
   "metadata": {
    "collapsed": false
   },
   "outputs": [
    {
     "data": {
      "image/png": "[encoded data removed]",
      "text/plain": [
       "<matplotlib.figure.Figure at 0x1cc20ed7208>"
      ]
     },
     "metadata": {},
     "output_type": "display_data"
    }
   ],
   "source": [
    "%matplotlib inline\n",
    "\n",
    "import matplotlib.pyplot as plt\n",
    "plt.plot(x, kupno, label=\"kupno\")\n",
    "plt.plot(x, sprzedaz, label=\"sprzedaz\")\n",
    "plt.xticks(rotation='vertical')\n",
    "plt.legend()\n",
    "plt.show()"
   ]
  },
  {
   "cell_type": "code",
   "execution_count": null,
   "metadata": {
    "collapsed": true
   },
   "outputs": [],
   "source": []
  }
 ],
 "metadata": {
  "anaconda-cloud": {},
  "kernelspec": {
   "display_name": "Python [conda root]",
   "language": "python",
   "name": "conda-root-py"
  },
  "language_info": {
   "codemirror_mode": {
    "name": "ipython",
    "version": 3
   },
   "file_extension": ".py",
   "mimetype": "text/x-python",
   "name": "python",
   "nbconvert_exporter": "python",
   "pygments_lexer": "ipython3",
   "version": "3.5.2"
  },
  "widgets": {
   "state": {
    "05f4540b0c98448bb4a1dd3c9dc4bbbf": {
     "views": [
      {
       "cell_index": 11
      }
     ]
    },
    "0ac99f8cf2b149028be21de230e14ac3": {
     "views": [
      {
       "cell_index": 13
      }
     ]
    },
    "1e717ad6308d47b5a63e7ed1b792250b": {
     "views": [
      {
       "cell_index": 13
      }
     ]
    },
    "2aa630add1614354b3979bfeceec7ed7": {
     "views": [
      {
       "cell_index": 4
      }
     ]
    },
    "2e43990e3e5848dd89b5f6c14d2f7d72": {
     "views": [
      {
       "cell_index": 13
      },
      {
       "cell_index": 13
      },
      {
       "cell_index": 13
      }
     ]
    },
    "3a5e0305a2b2473eb36796ddea11a241": {
     "views": [
      {
       "cell_index": 11
      }
     ]
    },
    "4de6a07e6984461b8ead6302cd1adcae": {
     "views": [
      {
       "cell_index": 4
      }
     ]
    },
    "68648b969a1d4c26ba83ff31be27146c": {
     "views": [
      {
       "cell_index": 4
      }
     ]
    },
    "8157ad9f813b4789ada5610f56db6e83": {
     "views": [
      {
       "cell_index": 11
      },
      {
       "cell_index": 14
      },
      {
       "cell_index": 11
      }
     ]
    },
    "818c575042aa44d4b157858eea45733e": {
     "views": [
      {
       "cell_index": 13
      },
      {
       "cell_index": 13
      },
      {
       "cell_index": 13
      }
     ]
    },
    "81cb29f3cbc0420a88a162799e6d9e36": {
     "views": [
      {
       "cell_index": 11
      }
     ]
    },
    "8765069fe7134b368cdd106c9c1f6e7c": {
     "views": [
      {
       "cell_index": 13
      }
     ]
    },
    "8c1fc8305ad14edf8339d245abb2dd8e": {
     "views": [
      {
       "cell_index": 13
      }
     ]
    },
    "9ad979528bc04fb1901039afbbb3f881": {
     "views": [
      {
       "cell_index": 11
      }
     ]
    },
    "b42662aa0bbd49c99721cf4b6a54f640": {
     "views": [
      {
       "cell_index": 11
      },
      {
       "cell_index": 14
      },
      {
       "cell_index": 11
      }
     ]
    }
   },
   "version": "1.2.0"
  }
 },
 "nbformat": 4,
 "nbformat_minor": 1
}
