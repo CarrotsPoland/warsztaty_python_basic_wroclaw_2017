{
 "cells": [
  {
   "cell_type": "markdown",
   "metadata": {},
   "source": [
    "## Pętle"
   ]
  },
  {
   "cell_type": "code",
   "execution_count": null,
   "metadata": {
    "extensions": {
     "jupyter_dashboards": {
      "version": 1,
      "views": {
       "grid_default": {
        "col": 0,
        "height": 4,
        "hidden": false,
        "row": 0,
        "width": 4
       },
       "report_default": {
        "hidden": false
       }
      }
     }
    }
   },
   "outputs": [],
   "source": [
    "# how do we iterate in Python\n",
    "for number in range(5):\n",
    "    print(number)"
   ]
  },
  {
   "cell_type": "markdown",
   "metadata": {},
   "source": [
    "### iteracja po liście"
   ]
  },
  {
   "cell_type": "code",
   "execution_count": null,
   "metadata": {
    "extensions": {
     "jupyter_dashboards": {
      "version": 1,
      "views": {
       "grid_default": {
        "hidden": true
       },
       "report_default": {
        "hidden": true
       }
      }
     }
    }
   },
   "outputs": [],
   "source": [
    "\n",
    "# listy\n",
    "lista_1 = ['kot', 'pies', 'karotka']\n",
    "\n",
    "for item in lista_1:\n",
    "    print('Teraz moim elementem listy jest {}'.format(item))"
   ]
  },
  {
   "cell_type": "code",
   "execution_count": null,
   "metadata": {},
   "outputs": [],
   "source": [
    "lista_2 = [['jabłko', 'pomidor'], ['banan', 'marchewka'], ['gruszka', 'ziemniak']]\n",
    "\n",
    "for owoc, warzywo in lista_2:\n",
    "    print('Czas na kolejny element pętli!')\n",
    "    print('Owoc to {} a warzywo to {}.'.format(owoc, warzywo))"
   ]
  },
  {
   "cell_type": "code",
   "execution_count": null,
   "metadata": {},
   "outputs": [],
   "source": [
    "lista_3 = ['Maciek', 'Krzysiek', 'Marcin', 'Ewa', 'Asia', 'Paweł']\n",
    "\n",
    "for index, mentor in enumerate(lista_3):\n",
    "    print('{}. mentorem dzisiaj jest {}'.format(index + 1, mentor))"
   ]
  },
  {
   "cell_type": "markdown",
   "metadata": {},
   "source": [
    "### Iteracja po słowniku"
   ]
  },
  {
   "cell_type": "code",
   "execution_count": null,
   "metadata": {},
   "outputs": [],
   "source": [
    "słownik_1 = {'pies':'owczarek', 'owoc':'jabłko', 'kot':'dachowiec'}\n",
    "\n",
    "for klucz in słownik_1:\n",
    "    print('Kluczem jest {} natomiast jego wartością {}.'.format(klucz, słownik_1[klucz]))"
   ]
  },
  {
   "cell_type": "markdown",
   "metadata": {},
   "source": [
    "## Instrukcje warunkowe"
   ]
  },
  {
   "cell_type": "code",
   "execution_count": null,
   "metadata": {},
   "outputs": [],
   "source": [
    "jestem_głodny = True\n",
    "if jestem_głodny:\n",
    "    print('Czas na pizzę!')\n",
    "print('Idziemy dalej...')"
   ]
  },
  {
   "cell_type": "code",
   "execution_count": null,
   "metadata": {},
   "outputs": [],
   "source": [
    "jestem_głodny = False\n",
    "if jestem_głodny:\n",
    "    print('Czas na pizzę!')\n",
    "else:\n",
    "    print('Szkoda że to nie jest czas na pizzę :(')\n",
    "print('Idziemy dalej...')"
   ]
  }
 ],
 "metadata": {
  "extensions": {
   "jupyter_dashboards": {
    "activeView": "report_default",
    "version": 1,
    "views": {
     "grid_default": {
      "cellMargin": 10,
      "defaultCellHeight": 20,
      "maxColumns": 12,
      "name": "grid",
      "type": "grid"
     },
     "report_default": {
      "name": "report",
      "type": "report"
     }
    }
   }
  },
  "kernelspec": {
   "display_name": "Python 3",
   "language": "python",
   "name": "python3"
  },
  "language_info": {
   "codemirror_mode": {
    "name": "ipython",
    "version": 3
   },
   "file_extension": ".py",
   "mimetype": "text/x-python",
   "name": "python",
   "nbconvert_exporter": "python",
   "pygments_lexer": "ipython3",
   "version": "3.5.3"
  }
 },
 "nbformat": 4,
 "nbformat_minor": 2
}
