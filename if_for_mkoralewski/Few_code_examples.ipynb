{
 "cells": [
  {
   "cell_type": "markdown",
   "metadata": {},
   "source": [
    "# Pętle i instrukcje warunkowe\n",
    "### By: Marcin Koralewski"
   ]
  },
  {
   "cell_type": "markdown",
   "metadata": {},
   "source": [
    "## Pętle"
   ]
  },
  {
   "cell_type": "code",
   "execution_count": null,
   "metadata": {
    "collapsed": true,
    "extensions": {
     "jupyter_dashboards": {
      "version": 1,
      "views": {
       "grid_default": {
        "col": 0,
        "height": 4,
        "hidden": false,
        "row": 0,
        "width": 4
       },
       "report_default": {
        "hidden": false
       }
      }
     }
    }
   },
   "outputs": [],
   "source": [
    "# how do we iterate in Python\n",
    "for number in range(5):\n",
    "    print(number)"
   ]
  },
  {
   "cell_type": "markdown",
   "metadata": {},
   "source": [
    "### iteracja po liście"
   ]
  },
  {
   "cell_type": "code",
   "execution_count": null,
   "metadata": {
    "collapsed": true,
    "extensions": {
     "jupyter_dashboards": {
      "version": 1,
      "views": {
       "grid_default": {
        "hidden": true
       },
       "report_default": {
        "hidden": true
       }
      }
     }
    }
   },
   "outputs": [],
   "source": [
    "\n",
    "# listy\n",
    "lista_1 = ['kot', 'pies', 'karotka']\n",
    "\n",
    "for item in lista_1:\n",
    "    print('Teraz moim elementem listy jest {}'.format(item))"
   ]
  },
  {
   "cell_type": "code",
   "execution_count": null,
   "metadata": {
    "collapsed": true
   },
   "outputs": [],
   "source": [
    "lista_2 = [['jabłko', 'pomidor'], ['banan', 'marchewka'], ['gruszka', 'ziemniak']]\n",
    "\n",
    "for owoc, warzywo in lista_2:\n",
    "    print('Czas na kolejny element pętli!')\n",
    "    print('Owoc to {} a warzywo to {}.'.format(owoc, warzywo))"
   ]
  },
  {
   "cell_type": "code",
   "execution_count": null,
   "metadata": {
    "collapsed": true
   },
   "outputs": [],
   "source": [
    "lista_3 = ['Maciek', 'Krzysiek', 'Marcin', 'Ewa', 'Asia', 'Paweł']\n",
    "\n",
    "for index, mentor in enumerate(lista_3):\n",
    "    print('{}. mentorem dzisiaj jest {}'.format(index + 1, mentor))"
   ]
  },
  {
   "cell_type": "markdown",
   "metadata": {},
   "source": [
    "### Iteracja po słowniku"
   ]
  },
  {
   "cell_type": "code",
   "execution_count": null,
   "metadata": {
    "collapsed": true
   },
   "outputs": [],
   "source": [
    "słownik_1 = {'pies':'owczarek', 'owoc':'jabłko', 'kot':'dachowiec'}\n",
    "\n",
    "for klucz in słownik_1:\n",
    "    print('Kluczem jest {} natomiast jego wartością {}.'.format(klucz, słownik_1[klucz]))"
   ]
  },
  {
   "cell_type": "markdown",
   "metadata": {},
   "source": [
    "## Instrukcje warunkowe"
   ]
  },
  {
   "cell_type": "code",
   "execution_count": null,
   "metadata": {
    "collapsed": true
   },
   "outputs": [],
   "source": [
    "jestem_głodny = True\n",
    "if jestem_głodny:\n",
    "    print('Czas na pizzę!')\n",
    "print('Idziemy dalej...')"
   ]
  },
  {
   "cell_type": "code",
   "execution_count": null,
   "metadata": {
    "collapsed": true
   },
   "outputs": [],
   "source": [
    "jestem_głodny = False\n",
    "if jestem_głodny:\n",
    "    print('Czas na pizzę!')\n",
    "else:\n",
    "    print('Szkoda że to nie jest czas na pizzę :(')\n",
    "print('Idziemy dalej...')"
   ]
  },
  {
   "cell_type": "code",
   "execution_count": null,
   "metadata": {},
   "outputs": [],
   "source": [
    "dzisiaj_zjadłem = 'pizza'\n",
    "co_powinienem_jeść = ['warzywo', 'owoc', 'mleko']\n",
    "czego_nie_powienienem_jeść = ['kebab', 'pizza', 'piwo']\n",
    "\n",
    "if dzisiaj_zjadłem in co_powinienem_jeść:\n",
    "    print('Jem dobrze!')\n",
    "elif dzisiaj_zjadłem in czego_nie_powienienem_jeść:\n",
    "    print('Jem źle!')\n",
    "else:\n",
    "    print('W sumie nie wiem czy jem dobrze :(')"
   ]
  },
  {
   "cell_type": "code",
   "execution_count": null,
   "metadata": {},
   "outputs": [],
   "source": [
    "dzisiaj_zjadłem = 'pizza'\n",
    "co_powinienem_jeść = ['warzywo', 'owoc', 'mleko']\n",
    "czego_nie_powienienem_jeść = ['kebab', 'pizza', 'piwo']\n",
    "\n",
    "if dzisiaj_zjadłem:\n",
    "    print('Nie chodzę głodny.')\n",
    "\n",
    "if dzisiaj_zjadłem in co_powinienem_jeść:\n",
    "    print('Jem dobrze!')\n",
    "elif dzisiaj_zjadłem in czego_nie_powienienem_jeść:\n",
    "    print('Jem źle!')\n",
    "else:\n",
    "    print('W sumie nie wiem czy jem dobrze :(')"
   ]
  },
  {
   "cell_type": "markdown",
   "metadata": {},
   "source": [
    "## Zadanka\n",
    "\n",
    "* Stwórz słownik, w którym kluczem jest imię osoby, a wartością liczba pieniędzy które jest Ci winien. Wypisz osoby, które wiszą Ci więcej niż 50zł.\n",
    "* Stwórz dwie równoliczne listy z imionami męskimi i żeńskimi. Jeżeli na i-tym miejscu listy z żeńskimi imionami imię zaczyna się na 'a', wypisz imię męskie z i-tej pozycji. Jeżeli zaczyna się na 'b', wypisz imię męskie i żeńskie z i-tych pozycji (po przecinku).\n",
    "* Dodaj do siebie dwie listy (element do elementu). Napisz dwie wersje - jedną dla równolicznych list, jedną dla list różnej długości."
   ]
  },
  {
   "cell_type": "markdown",
   "metadata": {},
   "source": [
    "## Kontrolowanie pętli"
   ]
  },
  {
   "cell_type": "code",
   "execution_count": null,
   "metadata": {},
   "outputs": [],
   "source": [
    "# wypisać elementy z listy większe niż 3\n",
    "lista_liczb = [1,5,2,4,7]\n",
    "\n",
    "for item in lista_liczb:\n",
    "    if item <= 3:\n",
    "        continue\n",
    "    print('{} jest większa niż 3, znalazłem ją!'.format(item))"
   ]
  },
  {
   "cell_type": "code",
   "execution_count": null,
   "metadata": {},
   "outputs": [],
   "source": [
    "# Znajdź partnera 10/10\n",
    "partnerzy = [4, 1, 8, 10, 4, 3, 10, 7, 2]\n",
    "\n",
    "for partner in partnerzy:\n",
    "    if partner == 10:\n",
    "        print('Znalazłem ideał! Nie szukam dalej :)')\n",
    "        break\n",
    "    print('Znowu mi nie wyszło :(')"
   ]
  },
  {
   "cell_type": "markdown",
   "metadata": {},
   "source": [
    "## Zadanka\n",
    "\n",
    "* Masz listę z liczbą minut aktywności dzień po dniu. W swojej pętli przejdź dzień po dniu i wypisz ile minut aktywnosći brakowało tego dnia do zadanego pułapu (np. 70 minut). Używając continue spraw, aby program nie wypisał nic, kiedy spełniony jest warunek aktywności.\n",
    "* Dana osoba odpowiadała na pytania poprawnie (TRUE) albo niepoprawnie (FALSE) (Umieść te dane w liście). Powiedz proszę, jaki procent poprawnych odpowiedzi udzieliła do momentu aż udzieliła 5tej dobrej odpowiedzi.\n",
    "* Masz listę list liczb (np. listy kalorii spożywanych w ciągu dnia dla każdego dnia w posiłkach). Przekształć te listy w ten sposób, aby w każdej (wewnętrznej) liscie suma elementów była nie większa niż 2000."
   ]
  }
 ],
 "metadata": {
  "extensions": {
   "jupyter_dashboards": {
    "activeView": "report_default",
    "version": 1,
    "views": {
     "grid_default": {
      "cellMargin": 10,
      "defaultCellHeight": 20,
      "maxColumns": 12,
      "name": "grid",
      "type": "grid"
     },
     "report_default": {
      "name": "report",
      "type": "report"
     }
    }
   }
  },
  "kernelspec": {
   "display_name": "Python 3",
   "language": "python",
   "name": "python3"
  },
  "language_info": {
   "codemirror_mode": {
    "name": "ipython",
    "version": 3
   },
   "file_extension": ".py",
   "mimetype": "text/x-python",
   "name": "python",
   "nbconvert_exporter": "python",
   "pygments_lexer": "ipython3",
   "version": "3.5.3"
  }
 },
 "nbformat": 4,
 "nbformat_minor": 2
}
