{
 "cells": [
  {
   "cell_type": "code",
   "execution_count": 1,
   "metadata": {
    "collapsed": true
   },
   "outputs": [],
   "source": [
    "# 5. importy i podstawowe biblioteki"
   ]
  },
  {
   "cell_type": "code",
   "execution_count": null,
   "metadata": {
    "collapsed": true
   },
   "outputs": [],
   "source": [
    "# 5.1 sposoby importowania wbudowanych bibliotek"
   ]
  },
  {
   "cell_type": "code",
   "execution_count": 3,
   "metadata": {
    "collapsed": false
   },
   "outputs": [
    {
     "ename": "NameError",
     "evalue": "name 'now' is not defined",
     "output_type": "error",
     "traceback": [
      "\u001b[0;31m---------------------------------------------------------------------------\u001b[0m",
      "\u001b[0;31mNameError\u001b[0m                                 Traceback (most recent call last)",
      "\u001b[0;32m<ipython-input-3-c16a388425f4>\u001b[0m in \u001b[0;36m<module>\u001b[0;34m()\u001b[0m\n\u001b[0;32m----> 1\u001b[0;31m \u001b[0mnow\u001b[0m\u001b[1;33m(\u001b[0m\u001b[1;33m)\u001b[0m\u001b[1;33m\u001b[0m\u001b[0m\n\u001b[0m",
      "\u001b[0;31mNameError\u001b[0m: name 'now' is not defined"
     ]
    }
   ],
   "source": [
    "now()"
   ]
  },
  {
   "cell_type": "code",
   "execution_count": 4,
   "metadata": {
    "collapsed": false
   },
   "outputs": [
    {
     "ename": "ImportError",
     "evalue": "No module named 'now'",
     "output_type": "error",
     "traceback": [
      "\u001b[0;31m---------------------------------------------------------------------------\u001b[0m",
      "\u001b[0;31mImportError\u001b[0m                               Traceback (most recent call last)",
      "\u001b[0;32m<ipython-input-4-8faf873998a7>\u001b[0m in \u001b[0;36m<module>\u001b[0;34m()\u001b[0m\n\u001b[0;32m----> 1\u001b[0;31m \u001b[1;32mimport\u001b[0m \u001b[0mnow\u001b[0m\u001b[1;33m\u001b[0m\u001b[0m\n\u001b[0m\u001b[1;32m      2\u001b[0m \u001b[0mnow\u001b[0m\u001b[1;33m(\u001b[0m\u001b[1;33m)\u001b[0m\u001b[1;33m\u001b[0m\u001b[0m\n",
      "\u001b[0;31mImportError\u001b[0m: No module named 'now'"
     ]
    }
   ],
   "source": [
    "import now\n",
    "now()"
   ]
  },
  {
   "cell_type": "code",
   "execution_count": 5,
   "metadata": {
    "collapsed": true
   },
   "outputs": [],
   "source": [
    "import datetime"
   ]
  },
  {
   "cell_type": "code",
   "execution_count": 7,
   "metadata": {
    "collapsed": false
   },
   "outputs": [
    {
     "name": "stdout",
     "output_type": "stream",
     "text": [
      "2017-07-06 19:53:07.911884\n"
     ]
    }
   ],
   "source": [
    "teraz = datetime.datetime.now()\n",
    "print(teraz)"
   ]
  },
  {
   "cell_type": "code",
   "execution_count": 10,
   "metadata": {
    "collapsed": false
   },
   "outputs": [],
   "source": [
    "import datetime as czas"
   ]
  },
  {
   "cell_type": "code",
   "execution_count": 11,
   "metadata": {
    "collapsed": false
   },
   "outputs": [
    {
     "name": "stdout",
     "output_type": "stream",
     "text": [
      "2017-07-06 19:54:31.921186\n"
     ]
    }
   ],
   "source": [
    "teraz = czas.datetime.now()\n",
    "print(teraz)"
   ]
  },
  {
   "cell_type": "code",
   "execution_count": 15,
   "metadata": {
    "collapsed": false
   },
   "outputs": [],
   "source": [
    "from datetime import datetime as czas"
   ]
  },
  {
   "cell_type": "code",
   "execution_count": 16,
   "metadata": {
    "collapsed": false
   },
   "outputs": [
    {
     "name": "stdout",
     "output_type": "stream",
     "text": [
      "2017-07-06 19:55:38.375170\n"
     ]
    }
   ],
   "source": [
    "teraz = czas.now()\n",
    "print(teraz)"
   ]
  },
  {
   "cell_type": "code",
   "execution_count": 17,
   "metadata": {
    "collapsed": true
   },
   "outputs": [],
   "source": [
    "# 5.2 Podstawowe biblioteki: json\n",
    "# pakiet json to podstawowa biblioteka pozwalająca czytać i zapisywać obiekty typu \"json\"\n",
    "# zarówno do i z polików oraz do i z stringów "
   ]
  },
  {
   "cell_type": "code",
   "execution_count": 18,
   "metadata": {
    "collapsed": true
   },
   "outputs": [],
   "source": [
    "import json"
   ]
  },
  {
   "cell_type": "code",
   "execution_count": null,
   "metadata": {
    "collapsed": true
   },
   "outputs": [],
   "source": [
    "# 5.2.1 \"pakowanie\" zmiennych pythonowych do jsonów"
   ]
  },
  {
   "cell_type": "code",
   "execution_count": 28,
   "metadata": {
    "collapsed": false
   },
   "outputs": [
    {
     "name": "stdout",
     "output_type": "stream",
     "text": [
      "[1, 2, 3]\n"
     ]
    }
   ],
   "source": [
    "lista = [1, 2, 3]\n",
    "lista_jako_json = json.dumps(lista)\n",
    "print(lista_jako_json)"
   ]
  },
  {
   "cell_type": "code",
   "execution_count": 30,
   "metadata": {
    "collapsed": false
   },
   "outputs": [
    {
     "name": "stdout",
     "output_type": "stream",
     "text": [
      "{\"b\": 2, \"c\": 3, \"a\": 1}\n"
     ]
    }
   ],
   "source": [
    "slownik = {'a': 1, 'b': 2, 'c':3}\n",
    "slownik_jako_json = json.dumps(slownik)\n",
    "print(slownik_jako_json)"
   ]
  },
  {
   "cell_type": "code",
   "execution_count": 41,
   "metadata": {
    "collapsed": false
   },
   "outputs": [
    {
     "name": "stdout",
     "output_type": "stream",
     "text": [
      "{\"2\": 3, \"c\": \"a\", \"a\": 1}\n"
     ]
    }
   ],
   "source": [
    "slownik2 = {'a': 1, 2: 3, 'c':\"a\"}\n",
    "slownik2_jako_json = json.dumps(slownik2)\n",
    "print(slownik2_jako_json)"
   ]
  },
  {
   "cell_type": "code",
   "execution_count": 42,
   "metadata": {
    "collapsed": true
   },
   "outputs": [],
   "source": [
    "# 5.2.3 zapisywanie jsonów do pliku"
   ]
  },
  {
   "cell_type": "code",
   "execution_count": 47,
   "metadata": {
    "collapsed": true
   },
   "outputs": [],
   "source": [
    "filename = \"json_example.json\""
   ]
  },
  {
   "cell_type": "code",
   "execution_count": 48,
   "metadata": {
    "collapsed": false
   },
   "outputs": [],
   "source": [
    "with open(filename, \"w\") as fp:\n",
    "    json.dump(slownik2, fp)"
   ]
  },
  {
   "cell_type": "code",
   "execution_count": 49,
   "metadata": {
    "collapsed": true
   },
   "outputs": [],
   "source": [
    "# 5.2.4 czytanie plików typu json"
   ]
  },
  {
   "cell_type": "code",
   "execution_count": 50,
   "metadata": {
    "collapsed": false
   },
   "outputs": [
    {
     "name": "stdout",
     "output_type": "stream",
     "text": [
      "{'2': 3, 'c': 'a', 'a': 1}\n"
     ]
    }
   ],
   "source": [
    "with open(filename, \"r\") as fp:\n",
    "    nowy_slownik2 = json.load(fp)\n",
    "print(nowy_slownik2)"
   ]
  },
  {
   "cell_type": "code",
   "execution_count": 54,
   "metadata": {
    "collapsed": false
   },
   "outputs": [
    {
     "name": "stdout",
     "output_type": "stream",
     "text": [
      "[1, 2, 3]\n",
      "<class 'list'>\n"
     ]
    }
   ],
   "source": [
    "# 5.2.5 czytanie jsona ze stringa\n",
    "wczytany_json = json.loads(\"[1,2,3]\")\n",
    "print(wczytany_json)\n",
    "print(type(wczytany_json))"
   ]
  },
  {
   "cell_type": "code",
   "execution_count": 55,
   "metadata": {
    "collapsed": true
   },
   "outputs": [],
   "source": [
    "# 5.3 Podstawowe biblioteki: os\n",
    "# Nazwa os pochodzi od “operating system” i pozwala nam wykonywać zadania na plikach znajdujących \n",
    "# się na naszym komputerze. Zachowuje też kompatybilność z każdym systemem operacyjnym, \n",
    "# dzięki czemu nasz kod jest uniwersalny."
   ]
  },
  {
   "cell_type": "code",
   "execution_count": 56,
   "metadata": {
    "collapsed": true
   },
   "outputs": [],
   "source": [
    "import os"
   ]
  },
  {
   "cell_type": "code",
   "execution_count": 57,
   "metadata": {
    "collapsed": false
   },
   "outputs": [
    {
     "name": "stdout",
     "output_type": "stream",
     "text": [
      "C:\\Users\\koche\\Desktop\n"
     ]
    }
   ],
   "source": [
    "# 5.3.1. Sprawdzenie aktualnego katalogu\n",
    "gdzie_jestem = os.getcwd()\n",
    "print(gdzie_jestem)"
   ]
  },
  {
   "cell_type": "code",
   "execution_count": 59,
   "metadata": {
    "collapsed": false
   },
   "outputs": [
    {
     "name": "stdout",
     "output_type": "stream",
     "text": [
      "['.ipynb_checkpoints', '.~lock.eksport_oceny_365627.xls#', '19577423_1091504750949779_9077936105771136197_o.jpg', '23 LE NOUVEL EDITO23', '3161173273_37_0.pdf', '52073-the-handmaid-s-tale-s01e09-[English-subtitles.org].zip', '5_importy_i_podstawowe_biblioteki.ipynb', '7z1604-x64.exe', '9783540221890-c1.pdf', 'Ankieta podsumowująca warsztaty SQL (Odpowiedzi).xlsx', 'backup_2.bib', 'backup_2.bib.bak', 'backup_2.bib.sav', 'basic-miktex-2.9.6326-x64.exe', 'bazy-20170615T125839Z-001.zip', 'bibliografia_backup.bib', 'bibliografia_backup.bib.bak', 'Calcul_des_probabilités.bibtex', 'Capture.JPG', 'CuteWriter.exe', 'deleted_praca_inzynierska.pdf', 'desktop.ini', 'Download File.pdf', 'drzewo.cpp', 'eksport_oceny_365627.xls', 'example.csv', 'French Language Learning Pack (Updated)', 'FV_3211248535_207.pdf', 'Google Drive', 'graf_inf.py', 'Imperatif Present - exercices.pdf', 'Imperatif present - regles et exercices.pdf', 'install-tl-windows', 'install-tl-windows.exe', 'JoannaKochel _inz.pdf', 'JoannaKochel.pdf', 'json_example.json', 'Kantor.py', 'les animaux.pdf', 'Les recettes - expressions vocabulaire et exercices.pdf', 'mapa.png', 'metrologia.py', 'n.exe', 'OpenOffice 4.1.3 (en-US) Installation Files', 'Passé composé.pdf', 'potwierdzenia.pdf', 'praca', 'praca_inzynierska.pdf', 'praca_inzynierska_cut.pdf', 'Readme.html', 'requests_jo.ipynb', 'retest17052017', 'retest17052017.zip', 'rozmiarowka_damska.jpeg', 'rozmiarowka_meska.jpeg', 'sensors-15-18550.pdf', 'temp', 'the-handmaids-tale-season-1-episode-1-english-35220.zip', 'the-handmaids-tale-season-1-episode-2-english-35228.zip', 'the-handmaids-tale-season-1-episode-3-english-35236.zip', 'the-handmaids-tale-season-1-episode-7-english-36699.zip', 'the.handmaids.tale.s01e01.720p.WEBRip.x264-MOROSE.srt', 'the.handmaids.tale.s01e02.720p.WEBRip.x264-MOROSE.srt', 'The.Handmaids.Tale.S01E03.WEBRip.NTb.en.srt', 'The.Handmaids.Tale.S01E03.WEBRip.NTb.en_1.zip', 'The.Handmaids.Tale.S01E04.WEBRip.RARBG.en.srt', 'The.Handmaids.Tale.S01E04.WEBRip.RARBG.en.zip', 'The.Handmaids.Tale.S01E05.WEBRip.RARBG.en.srt', 'The.Handmaids.Tale.S01E05.WEBRip.RARBG.en_2.zip', 'The.Handmaids.Tale.S01E06.1080.WEBRip.MOROSE.en.srt', 'The.Handmaids.Tale.S01E06.1080.WEBRip.MOROSE.en_2.zip', 'the.handmaids.tale.s01e07.720p.HULU.WEBRip.AAC2.0.H.264-TOPKEK.srt', 'The.Handmaids.Tale.S01E09.The.Bridge.HULU.WEBRip.AAC2.0.H.264-NTb.srt', 'time_series.m', 'tlo.jpg', 'Untitled.ipynb', 'U_09_51_4693020_0360417RW.pdf', 'WhatsAppSetup.exe', 'wniosek_o_wydanie_dyplomu.pdf', 'zdjecie.jpg', 'Zoom_launcher.exe']\n"
     ]
    }
   ],
   "source": [
    "# 5.3.2. Wylistowanie plików w katalogu\n",
    "pliki = os.listdir(gdzie_jestem)\n",
    "print(pliki)"
   ]
  },
  {
   "cell_type": "code",
   "execution_count": null,
   "metadata": {
    "collapsed": true
   },
   "outputs": [],
   "source": []
  }
 ],
 "metadata": {
  "kernelspec": {
   "display_name": "Python [conda root]",
   "language": "python",
   "name": "conda-root-py"
  },
  "language_info": {
   "codemirror_mode": {
    "name": "ipython",
    "version": 3
   },
   "file_extension": ".py",
   "mimetype": "text/x-python",
   "name": "python",
   "nbconvert_exporter": "python",
   "pygments_lexer": "ipython3",
   "version": "3.5.2"
  }
 },
 "nbformat": 4,
 "nbformat_minor": 1
}
