{
 "cells": [
  {
   "cell_type": "markdown",
   "metadata": {},
   "source": [
    "# Łamacz Szyfrów \n",
    "\n",
    "W dzisiejszych czasach wszystkie transakcje bankowe, maile, wiadomości są szyfrowane po to aby nikt niepowołany nie był w stanie ich odczytać. Chcąc zrozumieć zasady działania takiego szyfrowania napisz program, którego zadaniem będzie łamanie szyfrów i odczytywanie poufnych wiadomości wysłanych przez mieszkańców Nibylandii."
   ]
  },
  {
   "cell_type": "markdown",
   "metadata": {
    "collapsed": true
   },
   "source": [
    "## Krok 1: Czym są szyfry?\n",
    "Zanim zajmiemy się pisaniem kodu musimy zdobyć informacje dotyczące szyfru Cezara, gdyż nasz wywiad doniósł nam, że to właśnie szyfru Cezara używają mieszkańcy Nibylandii do zabezpieczenia poufnych wiadomości.\n",
    "\n",
    "1. Zapoznaj się ze wstępem, przykładem oraz z informacjami historycznymi na stronie Wikipedii poświęconej szyfrowi Cezara: https://pl.wikipedia.org/wiki/Szyfr_Cezara\n",
    "2. Zaszyfruj na kartce papieru wiadomość: “Python jest super” używając szyfru Cezara oraz przesunięcia 2 (użyj alfabetu: `\"abcdefghijklmnopqrstuvwxyz\"` oraz założ, że białe znaki nie są szyfrowane). "
   ]
  },
  {
   "cell_type": "code",
   "execution_count": null,
   "metadata": {
    "collapsed": true
   },
   "outputs": [],
   "source": [
    "tekst = \"Python jest super\"\n",
    "\n",
    "# wykorzystaj poniższe to przetłumaczenia tekstu jawnego\n",
    "# na zaszyfrowany. Np. z poniżeszego widać, że \n",
    "# b -> o oraz, że u -> h itd.\n",
    "\n",
    "# abcdefghijklmnopqrstuvwxyz\n",
    "# nopqrstuvwxyzabcdefghijklm\n",
    "zaszyfrowany_tekst = \"Clguba wrfg fhcre\""
   ]
  },
  {
   "cell_type": "markdown",
   "metadata": {},
   "source": [
    "## Krok 2: Automatyczne szyfrowanie\n",
    "W tym kroku utworzymy funkcję, która będzie szyfrować nasze wiadomości dla nas używając przesunięcia 13 (ulubione przesunięcie Cezara)\n",
    "\n",
    "1. Utwórz zmienną `znaki`, w której przechowamy wszystkie znaki jakich można będzie użyć w naszych wiadomościach: `\"aąbcćdeęfghijklłmnńoóprsśtuwyzźż,.?!;-_\\n\\t \"`\n",
    "1. Utwórz drugą zmienną o nazwie `przesuniete_znaki` w której zapisz wynik przesunięcia znaki o 13 miejsc w prawo\n",
    "1. Utwórz słownik, w którym przechowamy mapowanie pomiędzy znakami ze zmiennej `znaki` a znakami ze zmiennej `przesuniete_znaki`\n",
    "1. W pętli przetransformuj wiadomość `\"Hej jak się masz? Szyfry są wspaniałe!\"` (pamiętaj żeby przed transformacją zamienić wszystkie litery na małe)"
   ]
  },
  {
   "cell_type": "code",
   "execution_count": 8,
   "metadata": {},
   "outputs": [
    {
     "data": {
      "text/plain": [
       "'sotjtkuj;śójzk;adj;a p! j;lj\\t;?kźśkyoe'"
      ]
     },
     "execution_count": 8,
     "metadata": {},
     "output_type": "execute_result"
    }
   ],
   "source": [
    "# budujemy szyfr\n",
    "znaki = \"aąbcćdeęfghijklłmnńoóprsśtuwyzźż,.?!;-_\\n\\t \"\n",
    "przesuniete_znaki = \"klłmnńoóprsśtuwyzźż,.?!;-_\\n\\t aąbcćdeęfghij\"\n",
    "szyfr = {}\n",
    "for i in range(len(znaki)):\n",
    "    z = znaki[i]\n",
    "    pz = przesuniete_znaki[i]\n",
    "    szyfr[z] = pz\n",
    "    \n",
    "# szyfrujemy \n",
    "tekst = \"Hej jak się masz? Szyfry są wspaniałe!\".lower()\n",
    "zaszyfrowany_tekst = \"\" \n",
    "for l in tekst:\n",
    "    zaszyfrowany_tekst = zaszyfrowany_tekst + szyfr[l]\n",
    "\n",
    "zaszyfrowany_tekst    "
   ]
  },
  {
   "cell_type": "markdown",
   "metadata": {},
   "source": [
    "## Krok 3: Półautomatyczne łamanie szyfrów\n",
    "Wiem już jak szyfrować wiadomości, teraz czas na ich łamanie.\n",
    "\n",
    "1. Utwórz funkcję `szyfruj` która przyjmuje dwa argumenty: `tekst` oraz `przesuniecie`.\n",
    "2. Napisz kod, który automatycznie aplikuje przesunięcie i tworzy zmienną `przesuniete_znaki`\n",
    "3. Funkcja `szyfruj` powinna zwracać zaszyfrowaną wiadomość\n",
    "4. Zaaplikuj funkcję `szyfruj` do wiadomości `\";_nr,cmźbynalb\\n-óy,m?nmun,ńdgla;moc,m.;acżf\"` \n",
    "5. Użyj wszystkich możliwych przesunięć korzystając z pętli `for`\n",
    "6. Czy jesteś w stanie odgadnąć jakie przesunięcie zostało zaaplikowane do tej wiadomości?\n"
   ]
  },
  {
   "cell_type": "code",
   "execution_count": 9,
   "metadata": {},
   "outputs": [
    {
     "name": "stdout",
     "output_type": "stream",
     "text": [
      "## shift: 1\n",
      "-\n",
      "ńs.ćnżczńąłc\t_pz.n!ńnwń.oehłą-nóć.n?-ąć,g\n",
      "## shift: 2\n",
      "_\toś?dń,ćźobmć \n",
      "rź?ń;ońyo?óęimb_ńpd?ń!_bd.h\n",
      "## shift: 3\n",
      "\n",
      " ót!eo.dżócnda\tsż!o-óozó!pfjnc\n",
      "ore!o;\n",
      "ce?i\n",
      "## shift: 4\n",
      "\tapu;ęó?e,pćńeą ś,;ó_późp;rgkńć\tósę;ó-\tćę!j\n",
      "## shift: 5\n",
      " ąrw-fp!ę.rdoębat.-p\n",
      "rpżr-shlod pśf-p_ df;k\n",
      "## shift: 6\n",
      "absy_gr;f?seófcąu?_r\tsr,s_śiłóeartg_r\n",
      "aeg-l\n",
      "## shift: 7\n",
      "ącśz\n",
      "hs-g!śępgćbw!\n",
      "s śs.ś\n",
      "tjmpęąsuh\n",
      "s\tąęh_ł\n",
      "## shift: 8\n",
      "bćtź\tiś_h;tfrhdcy;\tśatś?t\tuknrfbświ\tś bfi\n",
      "m\n",
      "## shift: 9\n",
      "cduż jt\n",
      "i-ugsiećz- tąut!u wlńsgctyj tacgj\tn\n",
      "## shift: 10\n",
      "ćew,aku\tj_whśjędź_aubwu;wayłośhćuzkauąćhk ń\n",
      "## shift: 11\n",
      "dęy.ąlw k\n",
      "yitkfeż\n",
      "ąwcyw-yązmótidwźląwbdilao\n",
      "## shift: 12\n",
      "efz?błyal\tzjulgę,\tbyćzy_zbźnpujeyżłbycejłąó\n",
      "## shift: 13\n",
      "ęgź!cmzął źkwłhf. czdźz\n",
      "źcżńrwkęz,mczćękmbp\n",
      "## shift: 14\n",
      "fhż;ćnźbmażlymig?aćźeżź\tżć,osylfź.nćźdflncr\n",
      "## shift: 15\n",
      "gi,-dńżcną,łznjh!ądżę,ż ,d.óśzłgż?ńdżegłńćs\n",
      "## shift: 16\n",
      "hj._eo,ćńb.mźńki;be,f.,a.e?ptźmh,!oe,ęhmodś\n",
      "## shift: 17\n",
      "ik?\n",
      "ęó.doc?nżolj-cę.g?.ą?ę!rużni.;óę.finóet\n",
      "## shift: 18\n",
      "jl!\tfp?eóć!ń,ółk_ćf?h!?b!f;sw,ńj?-pf?gjńpęu\n",
      "## shift: 19\n",
      "kł; gr!ępd;o.pml\n",
      "dg!i;!c;g-śy.ok!_rg!hkorfw\n",
      "## shift: 20\n",
      "lm-ahs;fre-ó?rnł\teh;j-;ć-h_tz?ól;\n",
      "sh;ilósgy\n",
      "## shift: 21\n",
      "łn_ąiś-gsę_p!sńm ęi-k_-d_i\n",
      "uź!pł-\tśi-jłpśhz\n",
      "## shift: 22\n",
      "mń\n",
      "bjt_hśf\n",
      "r;śonafj_l\n",
      "_e\n",
      "j\twż;rm_ tj_kmrtiź\n",
      "## shift: 23\n",
      "no\tcku\n",
      "itg\ts-tóńągk\n",
      "ł\t\n",
      "ę\tk y,-sn\n",
      "auk\n",
      "lnsujż\n",
      "## shift: 24\n",
      "ńó ćlw\tjuh ś_upobhl\tm \tf laz._śń\tąwl\tłńśwk,\n",
      "## shift: 25\n",
      "opadły kwiat\n",
      "wrócił na gałąź?\n",
      "to był motyl.\n",
      "## shift: 26\n",
      "órąemzalyjąu\tyspćjmańąahąmbż!\tuóaczmanóuzł?\n",
      "## shift: 27\n",
      "psbęnźąłzkbw zśrdknąobąibnc,; wpąćźnąńpwźm!\n",
      "## shift: 28\n",
      "rścfńżbmźlcyaźtselńbócbjcńć.-ayrbdżńboryżn;\n",
      "## shift: 29\n",
      "stćgo,cnżłćzążuśęłocpćckćod?_ązsce,ocósz,ń-\n",
      "## shift: 30\n",
      "śudhó.ćń,mdźb,wtfmóćrdćldóe!\n",
      "bźśćę.óćpśź.o_\n",
      "## shift: 31\n",
      "tweip?do.neżc.yugnpdsedłepę;\tcżtdf?pdrtż?ó\n",
      "\n",
      "## shift: 32\n",
      "uyęjr!eó?ńę,ć?zwhńreśęemęrf- ć,ueg!resu,!p\t\n",
      "## shift: 33\n",
      "wzfks;ęp!of.d!źyiosętfęnfsg_ad.węh;sęśw.;r \n",
      "## shift: 34\n",
      "yźglś-fr;óg?e;żzjóśfugfńgśh\n",
      "ąe?yfi-śfty?-sa\n",
      "## shift: 35\n",
      "zżhłt_gs-ph!ę-,źkptgwhgohti\tbę!zgj_tguz!_śą\n",
      "## shift: 36\n",
      "ź,imu\n",
      "hś_ri;f_.żlruhyihóiuj cf;źhk\n",
      "uhwź;\n",
      "tb\n",
      "## shift: 37\n",
      "ż.jnw\tit\n",
      "sj-g\n",
      "?,łswizjipjwkaćg-żil\twiyż-\tuc\n",
      "## shift: 38\n",
      ",?kńy ju\tśk_h\t!.mśyjźkjrkylądh_,jł yjz,_ wć\n",
      "## shift: 39\n",
      ".!lozakw tl\n",
      "i ;?ntzkżlkslzłbei\n",
      ".kmazkź.\n",
      "ayd\n",
      "## shift: 40\n",
      "?;łóźąlyauł\tja-!ńuźl,łlśłźmcęj\t?lnąźlż?\tąze\n",
      "## shift: 41\n",
      "!-mpżbłząwm ką_;owżł.młtmżnćfk !łńbżł,! bźę\n"
     ]
    }
   ],
   "source": [
    "znaki = \"aąbcćdeęfghijklłmnńoóprsśtuwyzźż,.?!;-_\\n\\t \"\n",
    "\n",
    "\n",
    "def szyfruj(tekst, przesuniecie):\n",
    "    # budujemy szyfr    \n",
    "    przesuniete_znaki = znaki[przesuniecie:] + znaki[:przesuniecie]\n",
    "    szyfr = {}\n",
    "    for i in range(len(znaki)):\n",
    "        z = znaki[i]\n",
    "        pz = przesuniete_znaki[i]\n",
    "        szyfr[z] = pz\n",
    "    \n",
    "    # szyfrujemy\n",
    "    tekst = tekst.lower()\n",
    "    zaszyfrowany_tekst = \"\" \n",
    "    for l in tekst:\n",
    "        zaszyfrowany_tekst = zaszyfrowany_tekst + szyfr[l]    \n",
    "        \n",
    "    return zaszyfrowany_tekst\n",
    "\n",
    "\n",
    "tekst = \";_nr,cmźbynalb\\n-óy,m?nmun,ńdgla;moc,m.;acżf\"\n",
    "for przesuniecie in range(1, len(znaki)):\n",
    "    print('## shift: ' + str(przesuniecie))\n",
    "    print(szyfruj(tekst, przesuniecie))"
   ]
  },
  {
   "cell_type": "markdown",
   "metadata": {},
   "source": [
    "Z powyższego widać, że shift `25` dał nam tekst zrozumiały. W związku z tym, że `znaki` zawiera `42` znaki dochodzimy do wniosku, że początkowe przesunięcie wynosiło: `42 - 25 = 17`"
   ]
  },
  {
   "cell_type": "markdown",
   "metadata": {},
   "source": [
    "## Krok 4: W pełni automatyczne łamanie szyfrów\n",
    "Wiemy już jak łamać szyfry, jednak wciąż potrzebna jest tam nasza ingerencja. W tym kroku stworzymy w pełni automatyczny łamacz szyfrów. Nasi szpiedzy przy współpracy z lingwistami stworzyli listę słów, których mieszkańcy Nibylandii używają w swoich wiadomościach, dzięki temu będziemy w stanie automatycznie odszyfrowywać wiadomości Nibylandczyków :-)\n",
    "\n",
    "1. Używając biblioteki `requests` pobierz plik z listą słów, których używają mieszkańcy Nibylandii http://bit.ly/2tnOHrm\n",
    "2. Zaaplikuj funkcję szyfruj do wiadomości `\"j_ćf\\twuz.lu,ljćbdjurśjuj_ćf.bb.uj_.źlćękśźl.;ćufaiź-wż\"`\n",
    "3. Znajdź przesunięcie jakie zostało w tym przypadku zastosowane oraz oryginalną wiadomość używając słownika języka Nibylandczyków, tak żeby cały proces był w pełni automatyczny!\n",
    "4. Mając ten proces już w pełni zautomatyzowany odszyfruj wiadomości:\n",
    "    - `\"_śćźtśeożórńy _pdmaźć_ć?_aźńrzd.óńaźum;ośńaćd!źń.oa,o!źh\"`\n",
    "    - `\"mlanłujs;ome;,?\\tdln-;aśef-;f-\\tśf-?óhp\\tśą;ńeb;śeij_;jl\\t_y\"`\n",
    "    - `\"\\tsr;a-s\\tsu.kratz!\\nę!śuó;achz\\t?zkrfrć\\nęe;ęóbar;sb_s\\t?zres\\tyal\"`\n",
    "    "
   ]
  },
  {
   "cell_type": "code",
   "execution_count": 10,
   "metadata": {},
   "outputs": [
    {
     "data": {
      "text/plain": [
       "['azalia',\n",
       " 'bez',\n",
       " 'biała',\n",
       " 'białawy',\n",
       " 'burza',\n",
       " 'był',\n",
       " 'błyskawica',\n",
       " 'całe',\n",
       " 'całą',\n",
       " 'cenne',\n",
       " 'chora',\n",
       " 'chrapią',\n",
       " 'chwytając',\n",
       " 'chylą',\n",
       " 'chłód',\n",
       " 'ciemnieją',\n",
       " 'ciemność',\n",
       " 'cisza',\n",
       " 'ciągle',\n",
       " 'co',\n",
       " 'czapli',\n",
       " 'czego',\n",
       " 'czołem',\n",
       " 'dotknąć',\n",
       " 'dzika',\n",
       " 'dziki',\n",
       " 'dzikich',\n",
       " 'dziś',\n",
       " 'dzwonów',\n",
       " 'dźgnął',\n",
       " 'fale',\n",
       " 'fiołki',\n",
       " 'gałąź',\n",
       " 'gorąca',\n",
       " 'gra',\n",
       " 'groby',\n",
       " 'grzmi',\n",
       " 'gza',\n",
       " 'górskiej',\n",
       " 'igrającego',\n",
       " 'inny',\n",
       " 'ja',\n",
       " 'jak',\n",
       " 'jaka',\n",
       " 'jaki',\n",
       " 'jakże',\n",
       " 'jej',\n",
       " 'jesienna',\n",
       " 'jesiennego',\n",
       " 'jest',\n",
       " 'kaczek',\n",
       " 'kaczka',\n",
       " 'kapłanie',\n",
       " 'kobieta',\n",
       " 'kolanach',\n",
       " 'koniec',\n",
       " 'konik',\n",
       " 'konika',\n",
       " 'korzenie',\n",
       " 'krzak',\n",
       " 'krzyk',\n",
       " 'księżyca',\n",
       " 'ktoś',\n",
       " 'którą',\n",
       " 'kwiat',\n",
       " 'kwiatów',\n",
       " 'kwitnący',\n",
       " 'laskami',\n",
       " 'letnie',\n",
       " 'liśćmi',\n",
       " 'malowany',\n",
       " 'marzeń',\n",
       " 'masce',\n",
       " 'maty',\n",
       " 'małpa',\n",
       " 'małpy',\n",
       " 'mile',\n",
       " 'mojej',\n",
       " 'motyl',\n",
       " 'motylu',\n",
       " 'muzyka',\n",
       " 'myszy',\n",
       " 'mój',\n",
       " 'na',\n",
       " 'nad',\n",
       " 'nami',\n",
       " 'nie',\n",
       " 'niebiańska',\n",
       " 'nienawiść',\n",
       " 'nocą',\n",
       " 'nowej',\n",
       " 'obejmując',\n",
       " 'oddaj',\n",
       " 'odwiedzając',\n",
       " 'okapem',\n",
       " 'opadły',\n",
       " 'oszczędź',\n",
       " 'paść',\n",
       " 'po',\n",
       " 'pod',\n",
       " 'podróżny',\n",
       " 'podróży',\n",
       " 'pokoju',\n",
       " 'polnego',\n",
       " 'polny',\n",
       " 'pożądanie',\n",
       " 'prawdziwa',\n",
       " 'prostytutki',\n",
       " 'przed',\n",
       " 'przysypane',\n",
       " 'późno',\n",
       " 'płatki',\n",
       " 'rano',\n",
       " 'rok',\n",
       " 'rokiem',\n",
       " 'rozstanie',\n",
       " 'róży',\n",
       " 'rękawie',\n",
       " 'samotna',\n",
       " 'serca',\n",
       " 'siwowłosi',\n",
       " 'się',\n",
       " 'skałę',\n",
       " 'skowronek',\n",
       " 'skóra',\n",
       " 'smutku',\n",
       " 'stracha',\n",
       " 'strzechą',\n",
       " 'suficie',\n",
       " 'sukni',\n",
       " 'swymi',\n",
       " 'sza',\n",
       " 'są',\n",
       " 'sąsiednim',\n",
       " 'słodki',\n",
       " 'słomianej',\n",
       " 'słomianą',\n",
       " 'słomki',\n",
       " 'słuchać',\n",
       " 'tando',\n",
       " 'tego',\n",
       " 'tej',\n",
       " 'terkotanie',\n",
       " 'to',\n",
       " 'trawy',\n",
       " 'tu',\n",
       " 'twego',\n",
       " 'tłucze',\n",
       " 'ugorem',\n",
       " 'uwiązania',\n",
       " 'w',\n",
       " 'wieczora',\n",
       " 'wieczory',\n",
       " 'wierzbie',\n",
       " 'wiosenne',\n",
       " 'wioska',\n",
       " 'wodospad',\n",
       " 'wróble',\n",
       " 'wróblu',\n",
       " 'wrócił',\n",
       " 'wstyd',\n",
       " 'wszystko',\n",
       " 'wśród',\n",
       " 'z',\n",
       " 'za',\n",
       " 'zakonnica',\n",
       " 'zakrywa',\n",
       " 'zbudź',\n",
       " 'zielonej',\n",
       " 'zimna',\n",
       " 'zimną',\n",
       " 'zostaje',\n",
       " 'ścieg',\n",
       " 'ścieżce',\n",
       " 'śpi',\n",
       " 'śpiew',\n",
       " 'światłem',\n",
       " 'świdruje',\n",
       " 'żaden',\n",
       " 'żeby',\n",
       " 'żołnierzy',\n",
       " 'żyję',\n",
       " 'żółtej']"
      ]
     },
     "execution_count": 10,
     "metadata": {},
     "output_type": "execute_result"
    }
   ],
   "source": [
    "# budujemy słownik\n",
    "import requests\n",
    "\n",
    "response = requests.get('http://bit.ly/2tnOHrm')\n",
    "slowa = response.content.decode('utf8').split('\\n')\n",
    "slowa"
   ]
  },
  {
   "cell_type": "code",
   "execution_count": 12,
   "metadata": {
    "collapsed": true
   },
   "outputs": [],
   "source": [
    "def jest_ok(tekst):\n",
    "    for znak in ',.?!;-_':\n",
    "        tekst = tekst.replace(znak, '')\n",
    "\n",
    "    wszystko_to_slowa = True\n",
    "    for slowo in tekst.split():\n",
    "        if slowo not in slowa:\n",
    "            wszystko_to_slowa = False\n",
    "            \n",
    "    return wszystko_to_slowa  "
   ]
  },
  {
   "cell_type": "code",
   "execution_count": 13,
   "metadata": {},
   "outputs": [
    {
     "name": "stdout",
     "output_type": "stream",
     "text": [
      "wioska bez dzwonów -\n",
      "w wiosenne wieczory\n",
      "czego słuchać\n"
     ]
    }
   ],
   "source": [
    "zaszyfrowany_teskt = \"j_ćf\\twuz.lu,ljćbdjurśjuj_ćf.bb.uj_.źlćękśźl.;ćufaiź-wż\"\n",
    "for przesuniecie in range(1, len(znaki)):\n",
    "    tekst = szyfruj(zaszyfrowany_teskt, przesuniecie)\n",
    "    if jest_ok(tekst):\n",
    "        print(tekst)"
   ]
  },
  {
   "cell_type": "code",
   "execution_count": 14,
   "metadata": {
    "collapsed": true
   },
   "outputs": [],
   "source": [
    "def odszyfruj(zaszyfrowany_teskt):\n",
    "    for przesuniecie in range(1, len(znaki)):\n",
    "        tekst = szyfruj(zaszyfrowany_teskt, przesuniecie)\n",
    "        if jest_ok(tekst):\n",
    "            return tekst"
   ]
  },
  {
   "cell_type": "code",
   "execution_count": 15,
   "metadata": {},
   "outputs": [
    {
     "name": "stdout",
     "output_type": "stream",
     "text": [
      "odwiedzając groby\n",
      "siwowłosi chylą się\n",
      "nad swymi laskami.\n"
     ]
    }
   ],
   "source": [
    "print(odszyfruj(\"_śćźtśeożórńy _pdmaźć_ć?_aźńrzd.óńaźum;ośńaćd!źń.oa,o!źh\"))"
   ]
  },
  {
   "cell_type": "code",
   "execution_count": 16,
   "metadata": {},
   "outputs": [
    {
     "name": "stdout",
     "output_type": "stream",
     "text": [
      "podróżny śpi -\n",
      "chora dzika kaczka\n",
      "tłucze się zimną nocą.\n"
     ]
    }
   ],
   "source": [
    "print(odszyfruj(\"mlanłujs;ome;,?\\tdln-;aśef-;f-\\tśf-?óhp\\tśą;ńeb;śeij_;jl\\t_y\"))"
   ]
  },
  {
   "cell_type": "code",
   "execution_count": 17,
   "metadata": {},
   "outputs": [
    {
     "name": "stdout",
     "output_type": "stream",
     "text": [
      "na kolanach, obejmując\n",
      "korzenie, w smutku\n",
      "po kapłanie tando.\n"
     ]
    }
   ],
   "source": [
    "print(odszyfruj(\"\\tsr;a-s\\tsu.kratz!\\nę!śuó;achz\\t?zkrfrć\\nęe;ęóbar;sb_s\\t?zres\\tyal\"))"
   ]
  }
 ],
 "metadata": {
  "kernelspec": {
   "display_name": "Python 3",
   "language": "python",
   "name": "python3"
  },
  "language_info": {
   "codemirror_mode": {
    "name": "ipython",
    "version": 3
   },
   "file_extension": ".py",
   "mimetype": "text/x-python",
   "name": "python",
   "nbconvert_exporter": "python",
   "pygments_lexer": "ipython3",
   "version": "3.4.5"
  }
 },
 "nbformat": 4,
 "nbformat_minor": 2
}
