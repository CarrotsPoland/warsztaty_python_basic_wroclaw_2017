{
 "cells": [
  {
   "cell_type": "markdown",
   "metadata": {},
   "source": [
    "## Krok 1"
   ]
  },
  {
   "cell_type": "code",
   "execution_count": 5,
   "metadata": {},
   "outputs": [
    {
     "data": {
      "text/plain": [
       "'clguba wrfg fhcre'"
      ]
     },
     "execution_count": 5,
     "metadata": {},
     "output_type": "execute_result"
    }
   ],
   "source": [
    "tekst = \"Python jest super\"\n",
    "alfabet = \"abcdefghijklmnopqrstuvwxyz\"\n",
    "\n",
    "def caesar1(message, shift):\n",
    "    message = message.lower().strip()\n",
    "    shifted_alfabet = alfabet[shift:] + alfabet[:shift]\n",
    "    \n",
    "    trans = {}\n",
    "    for z, sz in zip(alfabet, shifted_alfabet):\n",
    "        trans[z] = sz\n",
    "        \n",
    "    encoded_message = \"\"\n",
    "    for l in message:\n",
    "        if l == \" \":\n",
    "                encoded_message += l\n",
    "\n",
    "        else:\n",
    "            encoded_message += trans[l]\n",
    "    \n",
    "    return encoded_message\n",
    "\n",
    "caesar1(tekst, 13)"
   ]
  },
  {
   "cell_type": "code",
   "execution_count": 6,
   "metadata": {},
   "outputs": [
    {
     "data": {
      "text/plain": [
       "';_nr,cmźbynalb\\n-óy,m?nmun,ńdgla;moc,m.;acżf'"
      ]
     },
     "execution_count": 6,
     "metadata": {},
     "output_type": "execute_result"
    }
   ],
   "source": [
    "znaki = \"aąbcćdeęfghijklłmnńoóprsśtuwyzźż,.?!;-_\\n\\t \"\n",
    "\n",
    "\n",
    "def caesar(message, shift):\n",
    "    message = message.lower().strip()\n",
    "    shifted_znaki = znaki[shift:] + znaki[:shift]\n",
    "    \n",
    "    trans = {}\n",
    "    for z, sz in zip(znaki, shifted_znaki):\n",
    "        trans[z] = sz\n",
    "        \n",
    "    encoded_message = \"\"\n",
    "    for l in message:\n",
    "        encoded_message += trans[l]\n",
    "    \n",
    "    return encoded_message\n",
    "\n",
    "\n",
    "encoded = caesar(\"\"\"\n",
    "Opadły kwiat\n",
    "Wrócił na gałąź?\n",
    "To był motyl.\n",
    "\"\"\", 17)\n",
    "encoded"
   ]
  },
  {
   "cell_type": "code",
   "execution_count": 7,
   "metadata": {},
   "outputs": [
    {
     "name": "stdout",
     "output_type": "stream",
     "text": [
      "-- shift: 0\n",
      ";_nr,cmźbynalb\n",
      "-óy,m?nmun,ńdgla;moc,m.;acżf\n",
      "-------\n",
      "\n",
      "-- shift: 1\n",
      "-\n",
      "ńs.ćnżczńąłc\t_pz.n!ńnwń.oehłą-nóć.n?-ąć,g\n",
      "-------\n",
      "\n",
      "-- shift: 2\n",
      "_\toś?dń,ćźobmć \n",
      "rź?ń;ońyo?óęimb_ńpd?ń!_bd.h\n",
      "-------\n",
      "\n",
      "-- shift: 3\n",
      "\n",
      " ót!eo.dżócnda\tsż!o-óozó!pfjnc\n",
      "ore!o;\n",
      "ce?i\n",
      "-------\n",
      "\n",
      "-- shift: 4\n",
      "\tapu;ęó?e,pćńeą ś,;ó_późp;rgkńć\tósę;ó-\tćę!j\n",
      "-------\n",
      "\n",
      "-- shift: 5\n",
      " ąrw-fp!ę.rdoębat.-p\n",
      "rpżr-shlod pśf-p_ df;k\n",
      "-------\n",
      "\n",
      "-- shift: 6\n",
      "absy_gr;f?seófcąu?_r\tsr,s_śiłóeartg_r\n",
      "aeg-l\n",
      "-------\n",
      "\n",
      "-- shift: 7\n",
      "ącśz\n",
      "hs-g!śępgćbw!\n",
      "s śs.ś\n",
      "tjmpęąsuh\n",
      "s\tąęh_ł\n",
      "-------\n",
      "\n",
      "-- shift: 8\n",
      "bćtź\tiś_h;tfrhdcy;\tśatś?t\tuknrfbświ\tś bfi\n",
      "m\n",
      "-------\n",
      "\n",
      "-- shift: 9\n",
      "cduż jt\n",
      "i-ugsiećz- tąut!u wlńsgctyj tacgj\tn\n",
      "-------\n",
      "\n",
      "-- shift: 10\n",
      "ćew,aku\tj_whśjędź_aubwu;wayłośhćuzkauąćhk ń\n",
      "-------\n",
      "\n",
      "-- shift: 11\n",
      "dęy.ąlw k\n",
      "yitkfeż\n",
      "ąwcyw-yązmótidwźląwbdilao\n",
      "-------\n",
      "\n",
      "-- shift: 12\n",
      "efz?błyal\tzjulgę,\tbyćzy_zbźnpujeyżłbycejłąó\n",
      "-------\n",
      "\n",
      "-- shift: 13\n",
      "ęgź!cmzął źkwłhf. czdźz\n",
      "źcżńrwkęz,mczćękmbp\n",
      "-------\n",
      "\n",
      "-- shift: 14\n",
      "fhż;ćnźbmażlymig?aćźeżź\tżć,osylfź.nćźdflncr\n",
      "-------\n",
      "\n",
      "-- shift: 15\n",
      "gi,-dńżcną,łznjh!ądżę,ż ,d.óśzłgż?ńdżegłńćs\n",
      "-------\n",
      "\n",
      "-- shift: 16\n",
      "hj._eo,ćńb.mźńki;be,f.,a.e?ptźmh,!oe,ęhmodś\n",
      "-------\n",
      "\n",
      "-- shift: 17\n",
      "ik?\n",
      "ęó.doc?nżolj-cę.g?.ą?ę!rużni.;óę.finóet\n",
      "-------\n",
      "\n",
      "-- shift: 18\n",
      "jl!\tfp?eóć!ń,ółk_ćf?h!?b!f;sw,ńj?-pf?gjńpęu\n",
      "-------\n",
      "\n",
      "-- shift: 19\n",
      "kł; gr!ępd;o.pml\n",
      "dg!i;!c;g-śy.ok!_rg!hkorfw\n",
      "-------\n",
      "\n",
      "-- shift: 20\n",
      "lm-ahs;fre-ó?rnł\teh;j-;ć-h_tz?ól;\n",
      "sh;ilósgy\n",
      "-------\n",
      "\n",
      "-- shift: 21\n",
      "łn_ąiś-gsę_p!sńm ęi-k_-d_i\n",
      "uź!pł-\tśi-jłpśhz\n",
      "-------\n",
      "\n",
      "-- shift: 22\n",
      "mń\n",
      "bjt_hśf\n",
      "r;śonafj_l\n",
      "_e\n",
      "j\twż;rm_ tj_kmrtiź\n",
      "-------\n",
      "\n",
      "-- shift: 23\n",
      "no\tcku\n",
      "itg\ts-tóńągk\n",
      "ł\t\n",
      "ę\tk y,-sn\n",
      "auk\n",
      "lnsujż\n",
      "-------\n",
      "\n",
      "-- shift: 24\n",
      "ńó ćlw\tjuh ś_upobhl\tm \tf laz._śń\tąwl\tłńśwk,\n",
      "-------\n",
      "\n",
      "-- shift: 25\n",
      "opadły kwiat\n",
      "wrócił na gałąź?\n",
      "to był motyl.\n",
      "-------\n",
      "\n",
      "-- shift: 26\n",
      "órąemzalyjąu\tyspćjmańąahąmbż!\tuóaczmanóuzł?\n",
      "-------\n",
      "\n",
      "-- shift: 27\n",
      "psbęnźąłzkbw zśrdknąobąibnc,; wpąćźnąńpwźm!\n",
      "-------\n",
      "\n",
      "-- shift: 28\n",
      "rścfńżbmźlcyaźtselńbócbjcńć.-ayrbdżńboryżn;\n",
      "-------\n",
      "\n",
      "-- shift: 29\n",
      "stćgo,cnżłćzążuśęłocpćckćod?_ązsce,ocósz,ń-\n",
      "-------\n",
      "\n",
      "-- shift: 30\n",
      "śudhó.ćń,mdźb,wtfmóćrdćldóe!\n",
      "bźśćę.óćpśź.o_\n",
      "-------\n",
      "\n",
      "-- shift: 31\n",
      "tweip?do.neżc.yugnpdsedłepę;\tcżtdf?pdrtż?ó\n",
      "\n",
      "-------\n",
      "\n",
      "-- shift: 32\n",
      "uyęjr!eó?ńę,ć?zwhńreśęemęrf- ć,ueg!resu,!p\t\n",
      "-------\n",
      "\n",
      "-- shift: 33\n",
      "wzfks;ęp!of.d!źyiosętfęnfsg_ad.węh;sęśw.;r \n",
      "-------\n",
      "\n",
      "-- shift: 34\n",
      "yźglś-fr;óg?e;żzjóśfugfńgśh\n",
      "ąe?yfi-śfty?-sa\n",
      "-------\n",
      "\n",
      "-- shift: 35\n",
      "zżhłt_gs-ph!ę-,źkptgwhgohti\tbę!zgj_tguz!_śą\n",
      "-------\n",
      "\n",
      "-- shift: 36\n",
      "ź,imu\n",
      "hś_ri;f_.żlruhyihóiuj cf;źhk\n",
      "uhwź;\n",
      "tb\n",
      "-------\n",
      "\n",
      "-- shift: 37\n",
      "ż.jnw\tit\n",
      "sj-g\n",
      "?,łswizjipjwkaćg-żil\twiyż-\tuc\n",
      "-------\n",
      "\n",
      "-- shift: 38\n",
      ",?kńy ju\tśk_h\t!.mśyjźkjrkylądh_,jł yjz,_ wć\n",
      "-------\n",
      "\n",
      "-- shift: 39\n",
      ".!lozakw tl\n",
      "i ;?ntzkżlkslzłbei\n",
      ".kmazkź.\n",
      "ayd\n",
      "-------\n",
      "\n",
      "-- shift: 40\n",
      "?;łóźąlyauł\tja-!ńuźl,łlśłźmcęj\t?lnąźlż?\tąze\n",
      "-------\n",
      "\n",
      "-- shift: 41\n",
      "!-mpżbłząwm ką_;owżł.młtmżnćfk !łńbżł,! bźę\n",
      "-------\n",
      "\n"
     ]
    }
   ],
   "source": [
    "for shift in range(len(znaki)):\n",
    "    print('-- shift: ' + str(shift))\n",
    "    print(caesar(encoded, shift))\n",
    "    print('-------\\n')"
   ]
  },
  {
   "cell_type": "code",
   "execution_count": 8,
   "metadata": {},
   "outputs": [
    {
     "data": {
      "text/plain": [
       "'j_ćf\\twuz.lu,ljćbdjurśjuj_ćf.bb.uj_.źlćękśźl.;ćufaiź-wż'"
      ]
     },
     "execution_count": 8,
     "metadata": {},
     "output_type": "execute_result"
    }
   ],
   "source": [
    "message = \"\"\"\n",
    "Wioska bez dzwonów -\n",
    "W wiosenne wieczory\n",
    "Czego słuchać\n",
    "\"\"\"\n",
    "shift = 27\n",
    "encoded = caesar(message, shift)\n",
    "encoded"
   ]
  },
  {
   "cell_type": "markdown",
   "metadata": {},
   "source": [
    "## Słownik języka nibylandii"
   ]
  },
  {
   "cell_type": "code",
   "execution_count": 39,
   "metadata": {
    "collapsed": true
   },
   "outputs": [],
   "source": [
    "import re\n",
    "\n",
    "\n",
    "all_words = \"Opadły kwiat Wrócił na gałąź? To był motyl. Konik polny Gra W rękawie stracha na wróble. Kobieta - Jak gorąca jej skóra którą zakrywa. Jaki chłód Dotknąć czołem Zielonej słomianej maty. Wstyd - W tej sukni Żaden ścieg nie jest mój. Rok za rokiem Ja w masce małpy - Prawdziwa małpa. Wróble pod okapem, Myszy w suficie - Niebiańska muzyka. Płatki żółtej róży, Grzmi - Wodospad Oddaj wierzbie Całą nienawiść, całe pożądanie Twego serca. Malowany światłem księżyca Kwitnący krzak - sza, w sąsiednim pokoju Chrapią prostytutki. W mojej nowej sukni Dziś rano - Ktoś inny. Na kolanach, obejmując Korzenie, w smutku Po kapłanie Tando. Rozstanie Chwytając za słomki Żeby nie paść. Zimna biała azalia - Samotna zakonnica Pod słomianą strzechą. Wróblu, oszczędź Gza Igrającego wśród kwiatów. Jaka cisza - Terkotanie konika polnego  Świdruje skałę. Podróżny śpi - Chora dzika kaczka Tłucze się zimną nocą. Ciemnieją fale - Krzyk dzikich kaczek Białawy. Zbudź się, motylu - Późno, całe mile Są przed nami. Fiołki - Jakże cenne Na górskiej ścieżce. Odwiedzając groby Siwowłosi chylą się Nad swymi laskami. Burza jesienna - Dziki przysypane Liśćmi. Koniec podróży - Ciągle żyję tu - tu, Tego jesiennego wieczora. Skowronek nad ugorem - Słodki śpiew Nie-uwiązania. Wioska bez dzwonów - W wiosenne wieczory Czego słuchać Błyskawica - Krzyk czapli Dźgnął ciemność Letnie trawy, Wszystko co zostaje Z marzeń żołnierzy.\"\n",
    "all_words = re.sub(r'(\\.|\\?|\\,|\\-|\\_|\\;)', ' ', all_words.lower().strip())\n",
    "all_words = re.split(r'\\s+', all_words)\n",
    "# print('\\n'.join(sorted(set(all_words))))"
   ]
  },
  {
   "cell_type": "code",
   "execution_count": 1,
   "metadata": {},
   "outputs": [
    {
     "name": "stdout",
     "output_type": "stream",
     "text": [
      "['azalia', 'bez', 'biaÅ\\x82a', 'biaÅ\\x82awy', 'burza', 'byÅ\\x82', 'bÅ\\x82yskawica', 'caÅ\\x82e', 'caÅ\\x82Ä\\x85', 'cenne', 'chora', 'chrapiÄ\\x85', 'chwytajÄ\\x85c', 'chylÄ\\x85', 'chÅ\\x82Ã³d', 'ciemniejÄ\\x85', 'ciemnoÅ\\x9bÄ\\x87', 'cisza', 'ciÄ\\x85gle', 'co', 'czapli', 'czego', 'czoÅ\\x82em', 'dotknÄ\\x85Ä\\x87', 'dzika', 'dziki', 'dzikich', 'dziÅ\\x9b', 'dzwonÃ³w', 'dÅºgnÄ\\x85Å\\x82', 'fale', 'fioÅ\\x82ki', 'gaÅ\\x82Ä\\x85Åº', 'gorÄ\\x85ca', 'gra', 'groby', 'grzmi', 'gza', 'gÃ³rskiej', 'igrajÄ\\x85cego', 'inny', 'ja', 'jak', 'jaka', 'jaki', 'jakÅ¼e', 'jej', 'jesienna', 'jesiennego', 'jest', 'kaczek', 'kaczka', 'kapÅ\\x82anie', 'kobieta', 'kolanach', 'koniec', 'konik', 'konika', 'korzenie', 'krzak', 'krzyk', 'ksiÄ\\x99Å¼yca', 'ktoÅ\\x9b', 'ktÃ³rÄ\\x85', 'kwiat', 'kwiatÃ³w', 'kwitnÄ\\x85cy', 'laskami', 'letnie', 'liÅ\\x9bÄ\\x87mi', 'malowany', 'marzeÅ\\x84', 'masce', 'maty', 'maÅ\\x82pa', 'maÅ\\x82py', 'mile', 'mojej', 'motyl', 'motylu', 'muzyka', 'myszy', 'mÃ³j', 'na', 'nad', 'nami', 'nie', 'niebiaÅ\\x84ska', 'nienawiÅ\\x9bÄ\\x87', 'nocÄ\\x85', 'nowej', 'obejmujÄ\\x85c', 'oddaj', 'odwiedzajÄ\\x85c', 'okapem', 'opadÅ\\x82y', 'oszczÄ\\x99dÅº', 'paÅ\\x9bÄ\\x87', 'po', 'pod', 'podrÃ³Å¼ny', 'podrÃ³Å¼y', 'pokoju', 'polnego', 'polny', 'poÅ¼Ä\\x85danie', 'prawdziwa', 'prostytutki', 'przed', 'przysypane', 'pÃ³Åºno', 'pÅ\\x82atki', 'rano', 'rok', 'rokiem', 'rozstanie', 'rÃ³Å¼y', 'rÄ\\x99kawie', 'samotna', 'serca', 'siwowÅ\\x82osi', 'siÄ\\x99', 'skaÅ\\x82Ä\\x99', 'skowronek', 'skÃ³ra', 'smutku', 'stracha', 'strzechÄ\\x85', 'suficie', 'sukni', 'swymi', 'sza', 'sÄ\\x85', 'sÄ\\x85siednim', 'sÅ\\x82odki', 'sÅ\\x82omianej', 'sÅ\\x82omianÄ\\x85', 'sÅ\\x82omki', 'sÅ\\x82uchaÄ\\x87', 'tando', 'tego', 'tej', 'terkotanie', 'to', 'trawy', 'tu', 'twego', 'tÅ\\x82ucze', 'ugorem', 'uwiÄ\\x85zania', 'w', 'wieczora', 'wieczory', 'wierzbie', 'wiosenne', 'wioska', 'wodospad', 'wrÃ³ble', 'wrÃ³blu', 'wrÃ³ciÅ\\x82', 'wstyd', 'wszystko', 'wÅ\\x9brÃ³d', 'z', 'za', 'zakonnica', 'zakrywa', 'zbudÅº', 'zielonej', 'zimna', 'zimnÄ\\x85', 'zostaje', 'Å\\x9bcieg', 'Å\\x9bcieÅ¼ce', 'Å\\x9bpi', 'Å\\x9bpiew', 'Å\\x9bwiatÅ\\x82em', 'Å\\x9bwidruje', 'Å¼aden', 'Å¼eby', 'Å¼oÅ\\x82nierzy', 'Å¼yjÄ\\x99', 'Å¼Ã³Å\\x82tej']\n"
     ]
    }
   ],
   "source": [
    "import requests\n",
    "\n",
    "response = requests.get('http://bit.ly/2tnOHrm')\n",
    "print(response.text.split('\\n'))"
   ]
  },
  {
   "cell_type": "markdown",
   "metadata": {},
   "source": [
    "## Krok 4 "
   ]
  },
  {
   "cell_type": "code",
   "execution_count": 9,
   "metadata": {},
   "outputs": [
    {
     "data": {
      "text/plain": [
       "'_śćźtśeożórńy _pdmaźć_ć?_aźńrzd.óńaźum;ośńaćd!źń.oa,o!źh'"
      ]
     },
     "execution_count": 9,
     "metadata": {},
     "output_type": "execute_result"
    }
   ],
   "source": [
    "message = \"\"\"\n",
    "Odwiedzając groby\n",
    "Siwowłosi chylą się\n",
    "Nad swymi laskami.\n",
    "\"\"\"\n",
    "caesar(message, 19)"
   ]
  },
  {
   "cell_type": "code",
   "execution_count": 10,
   "metadata": {},
   "outputs": [
    {
     "data": {
      "text/plain": [
       "'mlanłujs;ome;,?\\tdln-;aśef-;f-\\tśf-?óhp\\tśą;ńeb;śeij_;jl\\t_y'"
      ]
     },
     "execution_count": 10,
     "metadata": {},
     "output_type": "execute_result"
    }
   ],
   "source": [
    "message = \"\"\"\n",
    "Podróżny śpi -\n",
    "Chora dzika kaczka\n",
    "Tłucze się zimną nocą.\n",
    "\"\"\"\n",
    "caesar(message, 37)"
   ]
  },
  {
   "cell_type": "code",
   "execution_count": 15,
   "metadata": {},
   "outputs": [
    {
     "data": {
      "text/plain": [
       "'sr;a-s\\tsu.kratz!\\nę!śuó;achz\\t?zkrfrć\\nęe;ęóbar;sb_s\\t?zres\\tyal'"
      ]
     },
     "execution_count": 15,
     "metadata": {},
     "output_type": "execute_result"
    }
   ],
   "source": [
    "message = \"\"\"\n",
    "Na kolanach, obejmując\n",
    "Korzenie, w smutku\n",
    "Po kapłanie Tando.\n",
    "\"\"\"\n",
    "caesar(message, 23).strip()"
   ]
  },
  {
   "cell_type": "code",
   "execution_count": null,
   "metadata": {
    "collapsed": true
   },
   "outputs": [],
   "source": []
  }
 ],
 "metadata": {
  "kernelspec": {
   "display_name": "Python 3",
   "language": "python",
   "name": "python3"
  },
  "language_info": {
   "codemirror_mode": {
    "name": "ipython",
    "version": 3
   },
   "file_extension": ".py",
   "mimetype": "text/x-python",
   "name": "python",
   "nbconvert_exporter": "python",
   "pygments_lexer": "ipython3",
   "version": "3.4.5"
  }
 },
 "nbformat": 4,
 "nbformat_minor": 2
}
