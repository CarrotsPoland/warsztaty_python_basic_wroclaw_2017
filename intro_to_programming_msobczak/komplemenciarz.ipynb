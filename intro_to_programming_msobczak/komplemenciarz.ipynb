{
 "cells": [
  {
   "cell_type": "code",
   "execution_count": 68,
   "metadata": {},
   "outputs": [
    {
     "name": "stdout",
     "output_type": "stream",
     "text": [
      "jesteś super!\n"
     ]
    }
   ],
   "source": [
    "import random\n",
    "\n",
    "\n",
    "def wypisz_komplement():\n",
    "    komplementy = [\n",
    "        \"pięknie!\",\n",
    "        \"niezła robota\",\n",
    "        \"tylko Ty tak potrafisz?!\",\n",
    "        \"jesteś super!\",\n",
    "        \"jestem pod wrażeniem\",\n",
    "        \"kurde, udało Ci się, a myślałem, że to nie jest możliwe\",\n",
    "        \"fajnie, że jesteś\",\n",
    "    ]\n",
    "    \n",
    "    print(random.choice(komplementy))\n",
    "    \n",
    "wypisz_komplement()    "
   ]
  }
 ],
 "metadata": {
  "kernelspec": {
   "display_name": "Python 3",
   "language": "python",
   "name": "python3"
  },
  "language_info": {
   "codemirror_mode": {
    "name": "ipython",
    "version": 3
   },
   "file_extension": ".py",
   "mimetype": "text/x-python",
   "name": "python",
   "nbconvert_exporter": "python",
   "pygments_lexer": "ipython3",
   "version": "3.4.5"
  }
 },
 "nbformat": 4,
 "nbformat_minor": 2
}
